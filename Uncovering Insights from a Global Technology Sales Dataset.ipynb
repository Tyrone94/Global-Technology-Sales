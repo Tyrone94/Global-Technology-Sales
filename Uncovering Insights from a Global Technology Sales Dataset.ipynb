{
 "cells": [
  {
   "cell_type": "markdown",
   "metadata": {},
   "source": [
    "# Importing Libraries"
   ]
  },
  {
   "cell_type": "code",
   "execution_count": null,
   "metadata": {},
   "outputs": [],
   "source": [
    "import sqlite3\n",
    "import pandas as pd\n",
    "import seaborn as sns\n",
    "import numpy as np\n",
    "import matplotlib.pyplot as plt\n",
    "import squarify\n",
    "\n"
   ]
  },
  {
   "cell_type": "markdown",
   "metadata": {},
   "source": [
    "# 1.Data Profiling and Quality Assessment, Load and inspect the dataset."
   ]
  },
  {
   "cell_type": "markdown",
   "metadata": {},
   "source": [
    "### 1.1 Loading Dataset."
   ]
  },
  {
   "cell_type": "code",
   "execution_count": null,
   "metadata": {},
   "outputs": [],
   "source": [
    "df = pd.read_csv('global_tech_sales.csv')\n",
    "df.head()"
   ]
  },
  {
   "cell_type": "markdown",
   "metadata": {},
   "source": [
    "### 1.2 Identify missing values, duplicates, inconsistent data types, and outliers."
   ]
  },
  {
   "cell_type": "code",
   "execution_count": null,
   "metadata": {},
   "outputs": [],
   "source": [
    "\n",
    "missing_values = df.isnull().sum()\n",
    "\n",
    "duplicate_rows = df.duplicated().sum()\n",
    "\n",
    "data_types = df.dtypes\n",
    "\n",
    "outliers = {}\n",
    "for col in ['Sales', 'Profit', 'Discount', 'Quantity']:\n",
    "    Q1 = df[col].quantile(0.25)\n",
    "    Q3 = df[col].quantile(0.75)\n",
    "    IQR = Q3 - Q1\n",
    "    lower_bound = Q1 - 1.5 * IQR\n",
    "    upper_bound = Q3 + 1.5 * IQR\n",
    "    outliers[col] = df[(df[col] < lower_bound) | (df[col] > upper_bound)].shape[0]\n",
    "\n",
    "print(\"Missing Values:\\n\", missing_values)\n",
    "print(\"\\nNumber of Duplicate Rows:\", duplicate_rows)\n",
    "print(\"\\nData Types:\\n\", data_types)\n",
    "print(\"\\nOutliers:\\n\", outliers)"
   ]
  },
  {
   "cell_type": "markdown",
   "metadata": {},
   "source": [
    "# 2.Univariate and Bivariate Analysis."
   ]
  },
  {
   "cell_type": "markdown",
   "metadata": {},
   "source": [
    "### 2.1 Univariate Analysis using histograms and boxplots for numerical columns."
   ]
  },
  {
   "cell_type": "code",
   "execution_count": null,
   "metadata": {},
   "outputs": [],
   "source": [
    "#Profits by Region\n",
    "profits_per_region = df.groupby('Region')['Profit'].sum().sort_values(ascending=False)\n",
    "print(profits_per_region)\n",
    "\n"
   ]
  },
  {
   "cell_type": "code",
   "execution_count": null,
   "metadata": {},
   "outputs": [],
   "source": [
    "#Profits by Category\n",
    "profits_per_category = df.groupby('Category')['Profit'].sum().sort_values(ascending=False)\n",
    "print(profits_per_category)"
   ]
  },
  {
   "cell_type": "code",
   "execution_count": null,
   "metadata": {},
   "outputs": [],
   "source": [
    "for col in ['Sales', 'Profit', 'Discount']:\n",
    "    plt.figure(figsize=(12, 6))\n",
    "    \n",
    "    # Histogram\n",
    "    plt.subplot(1, 2, 1)\n",
    "    sns.histplot(df[col], kde=True, bins=30, color='blue')\n",
    "    plt.title(f'Histogram of {col}')\n",
    " "
   ]
  },
  {
   "cell_type": "code",
   "execution_count": null,
   "metadata": {},
   "outputs": [],
   "source": [
    "   \n",
    "# Boxplot\n",
    "plt.subplot(1, 2, 2)\n",
    "sns.boxplot(x=df[col], color='orange')\n",
    "plt.title(f'Boxplot of {col}')\n",
    "    \n",
    "plt.tight_layout()\n",
    "plt.show()"
   ]
  },
  {
   "cell_type": "code",
   "execution_count": null,
   "metadata": {},
   "outputs": [],
   "source": [
    "\n",
    "# Univariate Analysis using countplot for categorical column\n",
    "plt.figure(figsize=(10, 6))\n",
    "sns.countplot(y='Category', data=df, order=df['Category'].value_counts().index, palette='viridis')\n",
    "plt.title('Countplot of Category')\n",
    "plt.show()"
   ]
  },
  {
   "cell_type": "markdown",
   "metadata": {},
   "source": [
    "### 2.2 Bivariate Analysis using scatter plots and correlation heatmap."
   ]
  },
  {
   "cell_type": "code",
   "execution_count": null,
   "metadata": {},
   "outputs": [],
   "source": [
    "# Pairplot for numerical columns\n",
    "numerical_columns = ['Sales', 'Profit', 'Discount', 'Quantity']\n",
    "sns.pairplot(df[numerical_columns], diag_kind='kde', corner=True, plot_kws={'alpha': 0.7})\n",
    "plt.suptitle('Pairplot of Numerical Columns', y=1.02, fontsize=16)\n",
    "plt.show()"
   ]
  },
  {
   "cell_type": "code",
   "execution_count": null,
   "metadata": {},
   "outputs": [],
   "source": [
    "# Correlation heatmap for numerical columns\n",
    "plt.figure(figsize=(10, 8))\n",
    "correlation_matrix = df[numerical_columns].corr()\n",
    "sns.heatmap(correlation_matrix, annot=True, cmap='coolwarm', fmt=\".2f\", linewidths=0.5)\n",
    "plt.title('Correlation Heatmap of Numerical Columns', fontsize=16)\n",
    "plt.show()"
   ]
  },
  {
   "cell_type": "code",
   "execution_count": null,
   "metadata": {},
   "outputs": [],
   "source": [
    "# Highlighting anomalies in scatterplots\n",
    "plt.figure(figsize=(16, 12))\n",
    "\n",
    "num_cols = len(numerical_columns)  # Define num_cols as the number of numerical columns\n",
    "plot_index = 1\n",
    "\n",
    "# Create a boolean Series for anomalies based on a condition (e.g., outliers in 'Profit')\n",
    "anomalies = (df['Profit'] < lower_bound) | (df['Profit'] > upper_bound)\n",
    "\n",
    "for i, col1 in enumerate(numerical_columns):\n",
    "    for j, col2 in enumerate(numerical_columns):\n",
    "        if i < j:  # Avoid duplicate plots\n",
    "            plt.subplot(num_cols - 1, num_cols - 1, plot_index)\n",
    "            sns.scatterplot(x=df[col1], y=df[col2], alpha=0.7, hue=anomalies, palette={True: 'red', False: 'blue'})\n",
    "            plt.title(f'{col1} vs {col2}')\n",
    "            plt.xlabel(col1)\n",
    "            plt.ylabel(col2)\n",
    "            plot_index += 1\n",
    "\n",
    "plt.tight_layout()\n",
    "plt.show()"
   ]
  },
  {
   "cell_type": "code",
   "execution_count": null,
   "metadata": {},
   "outputs": [],
   "source": [
    "# Sales per category segmented by region\n",
    "sales_per_category_region = df.groupby(['Region', 'Category'])['Sales'].sum().unstack()\n",
    "\n",
    "print(sales_per_category_region)\n",
    "\n",
    "sales_per_category_region.plot(kind='bar', figsize=(12, 8), stacked=True, colormap='viridis', edgecolor='black')\n",
    "plt.title('Sales per Category Segmented by Region', fontsize=16)\n",
    "plt.xlabel('Region', fontsize=12)\n",
    "plt.ylabel('Total Sales', fontsize=12)\n",
    "plt.xticks(rotation=45)\n",
    "plt.legend(title='Category', fontsize=10)\n",
    "plt.grid(axis='y', linestyle='--', alpha=0.7)\n",
    "plt.tight_layout()\n",
    "plt.show()\n",
    "\n",
    "\n",
    "highest_sales_per_category = sales_per_category_region.idxmax()\n",
    "print(\"Regions with Highest Sales in Each Category:\")\n",
    "print(highest_sales_per_category)"
   ]
  },
  {
   "cell_type": "markdown",
   "metadata": {},
   "source": [
    "# 3. Time Series and Trend Analysis."
   ]
  },
  {
   "cell_type": "markdown",
   "metadata": {},
   "source": [
    "### 3.1 Convert date-related fields and analyze monthly/yearly sales trends."
   ]
  },
  {
   "cell_type": "code",
   "execution_count": null,
   "metadata": {},
   "outputs": [],
   "source": [
    "\n",
    "df['OrderDate'] = pd.to_datetime(df['OrderDate'])\n",
    "\n",
    "df['Year'] = df['OrderDate'].dt.year\n",
    "df['Month'] = df['OrderDate'].dt.month\n",
    "\n",
    "#Yearly sales trends analysis\n",
    "yearly_sales = df.groupby('Year')['Sales'].sum()\n",
    "print(\"Yearly Sales Trends:\\n\", yearly_sales)\n",
    "\n",
    "#Monthly sales trends analysis\n",
    "monthly_sales = df.groupby(['Year', 'Month'])['Sales'].sum().unstack()\n",
    "print(\"\\nMonthly Sales Trends:\\n\", monthly_sales)\n"
   ]
  },
  {
   "cell_type": "code",
   "execution_count": null,
   "metadata": {},
   "outputs": [],
   "source": [
    "# Yearly sales trends \n",
    "plt.figure(figsize=(10, 6))\n",
    "yearly_sales.plot(kind='bar', color='skyblue', edgecolor='black')\n",
    "plt.title('Yearly Sales Trends', fontsize=16)\n",
    "plt.xlabel('Year', fontsize=12)\n",
    "plt.ylabel('Total Sales', fontsize=12)\n",
    "plt.xticks(rotation=0)\n",
    "plt.grid(axis='y', linestyle='--', alpha=0.7)\n",
    "plt.show()"
   ]
  },
  {
   "cell_type": "code",
   "execution_count": null,
   "metadata": {},
   "outputs": [],
   "source": [
    "#Monthly sales trends\n",
    "plt.figure(figsize=(12, 8))\n",
    "sns.heatmap(segmented_summary, annot=True, fmt=\".2f\", cmap=\"YlGnBu\", linewidths=0.5)\n",
    "plt.title('Sales and Profit by Region', fontsize=16)\n",
    "plt.xlabel('Metrics', fontsize=12)\n",
    "plt.ylabel('Region', fontsize=12)\n",
    "plt.yticks(ticks=np.arange(len(segmented_summary.index)) + 0.5, labels=segmented_summary.index, rotation=0)\n",
    "plt.show()"
   ]
  },
  {
   "cell_type": "markdown",
   "metadata": {},
   "source": [
    "### 3.2 Time series showing seasonality and growth."
   ]
  },
  {
   "cell_type": "code",
   "execution_count": null,
   "metadata": {},
   "outputs": [],
   "source": [
    "# Time series showing seasonality and growth\n",
    "plt.figure(figsize=(14, 8))\n",
    "monthly_sales.T.plot(figsize=(14, 8), marker='o')\n",
    "plt.title('Seasonality and Growth in Monthly Sales', fontsize=16)\n",
    "plt.xlabel('Month', fontsize=12)\n",
    "plt.ylabel('Total Sales', fontsize=12)\n",
    "plt.legend(title='Year', fontsize=10)\n",
    "plt.grid(axis='y', linestyle='--', alpha=0.7)\n",
    "plt.show()"
   ]
  },
  {
   "cell_type": "markdown",
   "metadata": {},
   "source": [
    "### 3.3 Identify and explain any unusual dips or spikes in data."
   ]
  },
  {
   "cell_type": "code",
   "execution_count": null,
   "metadata": {},
   "outputs": [],
   "source": [
    "# Calculating monthly sales change\n",
    "monthly_sales_change = monthly_sales.diff(axis=1)\n",
    "\n",
    "# Months with unusual dips or spikes\n",
    "unusual_changes = monthly_sales_change[(monthly_sales_change < lower_bound) | (monthly_sales_change > upper_bound)]\n",
    "print(\"Unusual Dips or Spikes in Data:\")\n",
    "print(unusual_changes)\n",
    "\n"
   ]
  },
  {
   "cell_type": "markdown",
   "metadata": {},
   "source": [
    "# 4. Segment-Level Insights."
   ]
  },
  {
   "cell_type": "markdown",
   "metadata": {},
   "source": [
    "### 4.1 Segment the data by Region, Customer Segment, and/or Category."
   ]
  },
  {
   "cell_type": "code",
   "execution_count": null,
   "metadata": {},
   "outputs": [],
   "source": [
    "# Segmenting the data by Region, Customer Segment, and Category\n",
    "segmented_data = df.groupby(['Region', 'CustomerSegment', 'Category']).agg({\n",
    "    'Sales': 'sum',\n",
    "    'Profit': 'sum',\n",
    "    'Quantity': 'sum',\n",
    "    'Discount': 'mean'\n",
    "}).reset_index()\n",
    "\n",
    "print(segmented_data.head())"
   ]
  },
  {
   "cell_type": "markdown",
   "metadata": {},
   "source": [
    "### 4.2 Use grouped bar charts or treemaps to visualize performance across segment"
   ]
  },
  {
   "cell_type": "code",
   "execution_count": null,
   "metadata": {},
   "outputs": [],
   "source": [
    "# Grouped bar chart for Sales and Profit by Region\n",
    "segmented_summary = segmented_data.groupby('Region')[['Sales', 'Profit']].sum()\n",
    "\n",
    "segmented_summary.plot(kind='bar', figsize=(12, 6), color=['skyblue', 'orange'], edgecolor='black')\n",
    "plt.title('Sales and Profit by Region', fontsize=16)\n",
    "plt.xlabel('Region', fontsize=12)\n",
    "plt.ylabel('Amount', fontsize=12)\n",
    "plt.xticks(rotation=45)\n",
    "plt.legend(title='Metrics', fontsize=10)\n",
    "plt.grid(axis='y', linestyle='--', alpha=0.7)\n",
    "plt.tight_layout()\n",
    "plt.show()\n",
    "\n",
    "# Define region_sales based on segmented_summary\n",
    "region_sales = segmented_summary.reset_index()\n",
    "print(region_sales)\n",
    "print(profits_per_region)\n",
    "\n",
    "\n"
   ]
  },
  {
   "cell_type": "code",
   "execution_count": null,
   "metadata": {},
   "outputs": [],
   "source": [
    "print(region_sales)"
   ]
  },
  {
   "cell_type": "code",
   "execution_count": null,
   "metadata": {},
   "outputs": [],
   "source": [
    "# Treemap for Sales by Region\n",
    "region_sales['adjusted_size'] = region_sales['Sales'] / region_sales['Sales'].sum() * 100\n",
    "\n",
    "plt.figure(figsize=(12, 8))\n",
    "squarify.plot(sizes=region_sales['adjusted_size'], label=region_sales['Region'], alpha=0.8, color=sns.color_palette('Set2'))\n",
    "plt.title('Global Tech Sales by Region (Adjusted Sizes)', fontsize=16)\n",
    "plt.axis('off')\n",
    "plt.show()\n",
    "\n",
    "print(region_sales)"
   ]
  },
  {
   "cell_type": "code",
   "execution_count": null,
   "metadata": {},
   "outputs": [],
   "source": [
    "#Key insights\n",
    "print(\"Key Insights:\")\n",
    "print(\"1. High-performing regions: North America and Europe with profits of\", profits_per_region['North America'], \"and\", profits_per_region['Europe'], \"respectively.\")\n",
    "print(\"2. South America has the highest average discount rate, which might be impacting profit margins.\")\n",
    "print(\"3. East Asia region shows significantly low sales compared to other regions.\")\n",
    "print(\"4. Discounts have a negative correlation with profit (-0.143276), indicating their impact on margins.\")\n",
    "print(\"5. Monthly sales trends reveal seasonal patterns, suggesting opportunities for targeted promotions.\")"
   ]
  },
  {
   "cell_type": "markdown",
   "metadata": {},
   "source": [
    "#  5. Executive Summary and Dashboard Elements"
   ]
  },
  {
   "cell_type": "markdown",
   "metadata": {},
   "source": [
    "### Final Summary with Key Insights"
   ]
  },
  {
   "cell_type": "code",
   "execution_count": null,
   "metadata": {},
   "outputs": [],
   "source": [
    "\n",
    "print(\"Final Summary:\")\n",
    "print(\"1. North America and Europe are the top-performing regions in terms of profit, indicating strong market presence and customer base.\")\n",
    "print(\"2. South America has the highest average discount rate, which may be negatively impacting profit margins. A review of discount strategies is recommended.\")\n",
    "print(\"3. Seasonal trends in monthly sales suggest opportunities for targeted marketing campaigns during peak months to maximize revenue.\")\n",
    "\n"
   ]
  },
  {
   "cell_type": "markdown",
   "metadata": {},
   "source": [
    "### Visualization"
   ]
  },
  {
   "cell_type": "code",
   "execution_count": null,
   "metadata": {},
   "outputs": [],
   "source": [
    "fig, axes = plt.subplots(2, 2, figsize=(16, 12))\n",
    "\n",
    "# Sales by Region (Bar Chart)\n",
    "region_sales.plot(kind='bar', x='Region', y='Sales', ax=axes[0, 0], color='skyblue', edgecolor='black')\n",
    "axes[0, 0].set_title('Sales by Region', fontsize=14)\n",
    "axes[0, 0].set_xlabel('Region', fontsize=12)\n",
    "axes[0, 0].set_ylabel('Sales', fontsize=12)\n",
    "axes[0, 0].grid(axis='y', linestyle='--', alpha=0.7)\n",
    "\n",
    "# Profit by Region (Bar Chart)\n",
    "region_sales.plot(kind='bar', x='Region', y='Profit', ax=axes[0, 1], color='orange', edgecolor='black')\n",
    "axes[0, 1].set_title('Profit by Region', fontsize=14)\n",
    "axes[0, 1].set_xlabel('Region', fontsize=12)\n",
    "axes[0, 1].set_ylabel('Profit', fontsize=12)\n",
    "axes[0, 1].grid(axis='y', linestyle='--', alpha=0.7)\n",
    "\n",
    "# Treemap for Sales by Region\n",
    "squarify.plot(sizes=region_sales['adjusted_size'], label=region_sales['Region'], alpha=0.8, color=sns.color_palette('Set2'), ax=axes[1, 0])\n",
    "axes[1, 0].set_title('Treemap of Sales by Region', fontsize=14)\n",
    "axes[1, 0].axis('off')\n",
    "\n",
    "# Correlation Heatmap\n",
    "sns.heatmap(correlation_matrix, annot=True, cmap='coolwarm', fmt=\".2f\", linewidths=0.5, ax=axes[1, 1])\n",
    "axes[1, 1].set_title('Correlation Heatmap', fontsize=14)\n",
    "\n",
    "plt.tight_layout()\n",
    "plt.show()"
   ]
  }
 ],
 "metadata": {
  "kernelspec": {
   "display_name": "Python 3",
   "language": "python",
   "name": "python3"
  },
  "language_info": {
   "codemirror_mode": {
    "name": "ipython",
    "version": 3
   },
   "file_extension": ".py",
   "mimetype": "text/x-python",
   "name": "python",
   "nbconvert_exporter": "python",
   "pygments_lexer": "ipython3",
   "version": "3.13.2"
  }
 },
 "nbformat": 4,
 "nbformat_minor": 2
}
